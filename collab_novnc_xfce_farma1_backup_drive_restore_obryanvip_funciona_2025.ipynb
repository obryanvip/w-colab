{
  "cells": [
    {
      "cell_type": "markdown",
      "metadata": {
        "id": "view-in-github",
        "colab_type": "text"
      },
      "source": [
        "<a href=\"https://colab.research.google.com/github/obryanvip/w-colab/blob/main/collab_novnc_xfce_farma1_backup_drive_restore_obryanvip_funciona_2025.ipynb\" target=\"_parent\"><img src=\"https://colab.research.google.com/assets/colab-badge.svg\" alt=\"Open In Colab\"/></a>"
      ]
    },
    {
      "cell_type": "code",
      "execution_count": null,
      "metadata": {
        "id": "utYskyA0TYqq"
      },
      "outputs": [],
      "source": [
        "#1ngrok perfil mas instalacion\n",
        "!wget https://bin.equinox.io/c/bNyj1mQVY4c/ngrok-v3-stable-linux-amd64.tgz\n",
        "# Descomprimir el archivo descargado\n",
        "!sudo tar xvzf ngrok-v3-stable-linux-amd64.tgz -C /usr/local/bin\n",
        "!ngrok  authtoken 2gT9VDoVvXgc4HGOWLqHatXkpOF_3uueYxMCkHtWdnCEvEz8T\n",
        "#!ngrok  http 80"
      ]
    },
    {
      "cell_type": "code",
      "execution_count": null,
      "metadata": {
        "id": "Ws1NBA1ifIOq"
      },
      "outputs": [],
      "source": [
        "#chrome install\n",
        "! wget https://dl.google.com/linux/direct/google-chrome-stable_current_amd64.deb\n",
        "!  sudo dpkg --install google-chrome-stable_current_amd64.deb\n",
        "!  sudo apt install --assume-yes --fix-broken"
      ]
    },
    {
      "cell_type": "code",
      "execution_count": null,
      "metadata": {
        "id": "KxbZw30Njshb"
      },
      "outputs": [],
      "source": [
        "#novnc + flubox\n",
        "%%shell\n",
        "#!/bin/bash\n",
        "apt update\n",
        "apt install -y ssh-askpass xvfb x11vnc build-essential libx11-dev libxcursor-dev libxrandr-dev libxinerama-dev libxi-dev libgl1-mesa-dev libgl1-mesa-dri fluxbox xterm\n",
        "git clone https://github.com/ayunami2000/noVNC\n",
        "./noVNC/utils/launch.sh --listen 80 &\n",
        "Xvfb -screen 0 900x720x24+32 +extension GLX &\n",
        "export DISPLAY=:0\n",
        "fluxbox &\n",
        "x11vnc -noshm -geometry 1280x780 -shared -forever & ngrok http 80"
      ]
    },
    {
      "cell_type": "code",
      "execution_count": null,
      "metadata": {
        "id": "2zVuznz27t5B"
      },
      "outputs": [],
      "source": [
        "# remplazado fluxbox por xfce   2025 prompt: xcfe con novnc y x11vnc y ngrok cambia fluxbox por xfce\n",
        "\n",
        "%%shell\n",
        "#!/bin/bash\n",
        "apt update\n",
        "apt install -y ssh-askpass xvfb x11vnc build-essential libx11-dev libxcursor-dev libxrandr-dev libxinerama-dev libxi-dev libgl1-mesa-dev libgl1-mesa-dri xfce4 xfce4-goodies xterm\n",
        "git clone https://github.com/ayunami2000/noVNC\n",
        "./noVNC/utils/launch.sh --listen 80 &\n",
        "Xvfb -screen 0 1024x780x24+32 +extension GLX &\n",
        "export DISPLAY=:0\n",
        "xfce4-session &\n",
        "x11vnc -noshm -geometry 1280x780 -shared -forever & ngrok http 80"
      ]
    },
    {
      "cell_type": "code",
      "execution_count": null,
      "metadata": {
        "colab": {
          "background_save": true
        },
        "id": "NK3J-01NueYD"
      },
      "outputs": [],
      "source": [
        "# ejecutar por segunda vez sin install remplazado fluxbox por xfce   2025 prompt: xcfe con novnc y x11vnc y ngrok cambia fluxbox por xfce\n",
        "\n",
        "%%shell\n",
        "#!/bin/bash\n",
        "\n",
        "./noVNC/utils/launch.sh --listen 80 &\n",
        "Xvfb -screen 0 1024x780x24+32 +extension GLX &\n",
        "export DISPLAY=:0\n",
        "xfce4-session &\n",
        "x11vnc -noshm -geometry 1280x780 -shared -forever & ngrok http 80"
      ]
    },
    {
      "cell_type": "code",
      "execution_count": null,
      "metadata": {
        "id": "hwWiHIyj1Hdl"
      },
      "outputs": [],
      "source": [
        "#java install\n",
        "!sudo apt install default-jdk -y\n"
      ]
    },
    {
      "cell_type": "code",
      "execution_count": 2,
      "metadata": {
        "colab": {
          "base_uri": "https://localhost:8080/"
        },
        "id": "-nijP6veRFPN",
        "outputId": "61736eac-316a-4420-9705-6ada41871b9f"
      },
      "outputs": [
        {
          "output_type": "stream",
          "name": "stdout",
          "text": [
            "Mounted at /content/drive\n"
          ]
        }
      ],
      "source": [
        "from google.colab import drive\n",
        "drive.mount('/content/drive')"
      ]
    },
    {
      "cell_type": "code",
      "execution_count": null,
      "metadata": {
        "id": "GGvfp0JsRYME"
      },
      "outputs": [],
      "source": [
        "### estudio 2025 + drive\n",
        "!cd /content/drive\n",
        "!sudo apt install curl tar\n",
        "!wget  https://r3---sn-vgqskns7.gvt1.com/edgedl/android/studio/ide-zips/2023.2.1.25/android-studio-2023.2.1.25-linux.tar.gz\n",
        "! wget https://dl.google.com/linux/direct/google-chrome-stable_current_amd64.deb\n",
        "!cp /content/google-chrome-stable_current_amd64.deb /content/drive/MyDrive\n",
        "\n",
        "\n",
        " #https://redirector.gvt1.com/edgedl/android/studio/ide-zips/2022.3.1.19/android-studio-2022.3.1.19-linux.tar.gz\n",
        " #android-studio-2022.3.1.19-linux.tar.gz\n"
      ]
    },
    {
      "cell_type": "code",
      "execution_count": null,
      "metadata": {
        "id": "gzkgAO_rjK-Y"
      },
      "outputs": [],
      "source": [
        "### estudio 2025 solo descarga y install\n",
        "\n",
        "!sudo apt install curl tar\n",
        "!wget  https://r3---sn-vgqskns7.gvt1.com/edgedl/android/studio/ide-zips/2023.2.1.25/android-studio-2023.2.1.25-linux.tar.gz\n",
        "!tar -xvzf android-studio-2023.2.1.25-linux.tar.gz\n",
        "\n"
      ]
    },
    {
      "cell_type": "code",
      "execution_count": null,
      "metadata": {
        "id": "-MAyGBT2Y0SG"
      },
      "outputs": [],
      "source": [
        "#copiar android studio extraido a drive\n",
        "!cp -r -v /content/android-studio /content/drive/MyDrive\n",
        "!cp -r -v /content/sdkobry /content/drive/MyDrive"
      ]
    },
    {
      "cell_type": "code",
      "execution_count": null,
      "metadata": {
        "id": "1vSSFZnjn_F1"
      },
      "outputs": [],
      "source": [
        "#resestore de drive a android studio progreso -v lista de archivos\n",
        "!cp -r  /content/drive/MyDrive/android-studio /content\n",
        "!cp -r  /content/drive/MyDrive/sdkobry /content"
      ]
    },
    {
      "cell_type": "code",
      "execution_count": null,
      "metadata": {
        "id": "8RXIqH1AW69X"
      },
      "outputs": [],
      "source": [
        "# prompt: copiar esta desarga!wget  https://r3---sn-vgqskns7.gvt1.com/edgedl/android/studio/ide-zips/2023.2.1.25/android-studio-2023.2.1.25-linux.tar.gz a /content/drive y extraer\n",
        "\n",
        "!cp /content/android-studio-2023.2.1.25-linux.tar.gz /content/drive/MyDrive\n",
        "!cd /content/drive/MyDrive\n",
        "!tar -xvzf android-studio-2023.2.1.25-linux.tar.gz\n"
      ]
    },
    {
      "cell_type": "code",
      "execution_count": null,
      "metadata": {
        "id": "QrH5oNSAJ96y"
      },
      "outputs": [],
      "source": [
        "!sudo apt update\n",
        "!sudo apt install thunar konsole"
      ]
    },
    {
      "cell_type": "code",
      "execution_count": null,
      "metadata": {
        "id": "g0ySZ2OGTNmx"
      },
      "outputs": [],
      "source": [
        "# prompt: instalar firefox y las carpetas de perfiles dentro de la misma carpeta para hacerlo portable, comenta el codigo en español\n",
        "\n",
        "# Install Firefox\n",
        "!sudo apt install firefox\n",
        "\n",
        "# Create a directory for the profile\n",
        "!mkdir /content/firefox-profile\n",
        "\n",
        "# Copy the default profile to the new directory\n",
        "!cp -r /root/.mozilla/firefox/*.default /content/firefox-profile\n",
        "\n",
        "# Set the environment variable for the profile directory\n",
        "!export MOZ_PROFILE=/content/firefox-profile\n",
        "\n",
        "# Start Firefox\n",
        "!firefox\n"
      ]
    },
    {
      "cell_type": "code",
      "execution_count": null,
      "metadata": {
        "id": "gkHzl0NTYRzz"
      },
      "outputs": [],
      "source": [
        "# prompt: copiar esta desarga!wget  https://r3---sn-vgqskns7.gvt1.com/edgedl/android/studio/ide-zips/2023.2.1.25/android-studio-2023.2.1.25-linux.tar.gz a /content/drive y extraer\n",
        "\n",
        "!cp /content/android-studio-2023.2.1.25-linux.tar.gz /content/drive/MyDrive\n",
        "!cd /content/drive/MyDrive\n",
        "!tar -xvzf android-studio-2023.2.1.25-linux.tar.gz"
      ]
    },
    {
      "cell_type": "code",
      "execution_count": null,
      "metadata": {
        "id": "_v6xM7-UUEB8"
      },
      "outputs": [],
      "source": [
        "! link https://dashboard.ngrok.com/cloud-edge/endpoints/"
      ]
    }
  ],
  "metadata": {
    "colab": {
      "provenance": [],
      "include_colab_link": true
    },
    "kernelspec": {
      "display_name": "Python 3",
      "name": "python3"
    },
    "language_info": {
      "name": "python"
    }
  },
  "nbformat": 4,
  "nbformat_minor": 0
}